{
  "cells": [
    {
      "cell_type": "markdown",
      "metadata": {
        "id": "view-in-github",
        "colab_type": "text"
      },
      "source": [
        "<a href=\"https://colab.research.google.com/github/Msindisi-Carlet101/Msindisi-Carlet101/blob/main/lab02.ipynb\" target=\"_parent\"><img src=\"https://colab.research.google.com/assets/colab-badge.svg\" alt=\"Open In Colab\"/></a>"
      ]
    },
    {
      "cell_type": "code",
      "execution_count": 16,
      "id": "cell-lab02-0",
      "metadata": {
        "deletable": false,
        "editable": false,
        "id": "cell-lab02-0",
        "colab": {
          "base_uri": "https://localhost:8080/"
        },
        "outputId": "53310d04-c8f9-42da-bdf1-465f17fcaa99"
      },
      "outputs": [
        {
          "output_type": "stream",
          "name": "stdout",
          "text": [
            "Collecting otter-grader\n",
            "  Downloading otter_grader-5.5.0-py3-none-any.whl.metadata (2.9 kB)\n",
            "Collecting dill (from otter-grader)\n",
            "  Downloading dill-0.3.8-py3-none-any.whl.metadata (10 kB)\n",
            "Requirement already satisfied: jinja2 in /usr/local/lib/python3.10/dist-packages (from otter-grader) (3.1.4)\n",
            "Requirement already satisfied: nbformat in /usr/local/lib/python3.10/dist-packages (from otter-grader) (5.10.4)\n",
            "Requirement already satisfied: pandas in /usr/local/lib/python3.10/dist-packages (from otter-grader) (2.1.4)\n",
            "Requirement already satisfied: PyYAML in /usr/local/lib/python3.10/dist-packages (from otter-grader) (6.0.2)\n",
            "Collecting python-on-whales (from otter-grader)\n",
            "  Downloading python_on_whales-0.72.0-py3-none-any.whl.metadata (18 kB)\n",
            "Requirement already satisfied: requests in /usr/local/lib/python3.10/dist-packages (from otter-grader) (2.32.3)\n",
            "Requirement already satisfied: wrapt in /usr/local/lib/python3.10/dist-packages (from otter-grader) (1.16.0)\n",
            "Collecting jupytext (from otter-grader)\n",
            "  Downloading jupytext-1.16.4-py3-none-any.whl.metadata (13 kB)\n",
            "Requirement already satisfied: click in /usr/local/lib/python3.10/dist-packages (from otter-grader) (8.1.7)\n",
            "Collecting fica>=0.3.1 (from otter-grader)\n",
            "  Downloading fica-0.3.1-py3-none-any.whl.metadata (1.6 kB)\n",
            "Requirement already satisfied: ipython in /usr/local/lib/python3.10/dist-packages (from otter-grader) (7.34.0)\n",
            "Requirement already satisfied: astunparse in /usr/local/lib/python3.10/dist-packages (from otter-grader) (1.6.3)\n",
            "Requirement already satisfied: ipywidgets in /usr/local/lib/python3.10/dist-packages (from otter-grader) (7.7.1)\n",
            "Collecting ipylab (from otter-grader)\n",
            "  Downloading ipylab-1.0.0-py3-none-any.whl.metadata (6.7 kB)\n",
            "Requirement already satisfied: nbconvert in /usr/local/lib/python3.10/dist-packages (from otter-grader) (6.5.4)\n",
            "Requirement already satisfied: docutils in /usr/local/lib/python3.10/dist-packages (from fica>=0.3.1->otter-grader) (0.18.1)\n",
            "Requirement already satisfied: sphinx in /usr/local/lib/python3.10/dist-packages (from fica>=0.3.1->otter-grader) (5.0.2)\n",
            "Requirement already satisfied: wheel<1.0,>=0.23.0 in /usr/local/lib/python3.10/dist-packages (from astunparse->otter-grader) (0.44.0)\n",
            "Requirement already satisfied: six<2.0,>=1.6.1 in /usr/local/lib/python3.10/dist-packages (from astunparse->otter-grader) (1.16.0)\n",
            "Requirement already satisfied: ipykernel>=4.5.1 in /usr/local/lib/python3.10/dist-packages (from ipywidgets->otter-grader) (5.5.6)\n",
            "Requirement already satisfied: ipython-genutils~=0.2.0 in /usr/local/lib/python3.10/dist-packages (from ipywidgets->otter-grader) (0.2.0)\n",
            "Requirement already satisfied: traitlets>=4.3.1 in /usr/local/lib/python3.10/dist-packages (from ipywidgets->otter-grader) (5.7.1)\n",
            "Requirement already satisfied: widgetsnbextension~=3.6.0 in /usr/local/lib/python3.10/dist-packages (from ipywidgets->otter-grader) (3.6.8)\n",
            "Requirement already satisfied: jupyterlab-widgets>=1.0.0 in /usr/local/lib/python3.10/dist-packages (from ipywidgets->otter-grader) (3.0.11)\n",
            "Requirement already satisfied: setuptools>=18.5 in /usr/local/lib/python3.10/dist-packages (from ipython->otter-grader) (71.0.4)\n",
            "Collecting jedi>=0.16 (from ipython->otter-grader)\n",
            "  Using cached jedi-0.19.1-py2.py3-none-any.whl.metadata (22 kB)\n",
            "Requirement already satisfied: decorator in /usr/local/lib/python3.10/dist-packages (from ipython->otter-grader) (4.4.2)\n",
            "Requirement already satisfied: pickleshare in /usr/local/lib/python3.10/dist-packages (from ipython->otter-grader) (0.7.5)\n",
            "Requirement already satisfied: prompt-toolkit!=3.0.0,!=3.0.1,<3.1.0,>=2.0.0 in /usr/local/lib/python3.10/dist-packages (from ipython->otter-grader) (3.0.47)\n",
            "Requirement already satisfied: pygments in /usr/local/lib/python3.10/dist-packages (from ipython->otter-grader) (2.16.1)\n",
            "Requirement already satisfied: backcall in /usr/local/lib/python3.10/dist-packages (from ipython->otter-grader) (0.2.0)\n",
            "Requirement already satisfied: matplotlib-inline in /usr/local/lib/python3.10/dist-packages (from ipython->otter-grader) (0.1.7)\n",
            "Requirement already satisfied: pexpect>4.3 in /usr/local/lib/python3.10/dist-packages (from ipython->otter-grader) (4.9.0)\n",
            "Requirement already satisfied: MarkupSafe>=2.0 in /usr/local/lib/python3.10/dist-packages (from jinja2->otter-grader) (2.1.5)\n",
            "Requirement already satisfied: markdown-it-py>=1.0 in /usr/local/lib/python3.10/dist-packages (from jupytext->otter-grader) (3.0.0)\n",
            "Requirement already satisfied: mdit-py-plugins in /usr/local/lib/python3.10/dist-packages (from jupytext->otter-grader) (0.4.1)\n",
            "Requirement already satisfied: packaging in /usr/local/lib/python3.10/dist-packages (from jupytext->otter-grader) (24.1)\n",
            "Requirement already satisfied: tomli in /usr/local/lib/python3.10/dist-packages (from jupytext->otter-grader) (2.0.1)\n",
            "Requirement already satisfied: lxml in /usr/local/lib/python3.10/dist-packages (from nbconvert->otter-grader) (4.9.4)\n",
            "Requirement already satisfied: beautifulsoup4 in /usr/local/lib/python3.10/dist-packages (from nbconvert->otter-grader) (4.12.3)\n",
            "Requirement already satisfied: bleach in /usr/local/lib/python3.10/dist-packages (from nbconvert->otter-grader) (6.1.0)\n",
            "Requirement already satisfied: defusedxml in /usr/local/lib/python3.10/dist-packages (from nbconvert->otter-grader) (0.7.1)\n",
            "Requirement already satisfied: entrypoints>=0.2.2 in /usr/local/lib/python3.10/dist-packages (from nbconvert->otter-grader) (0.4)\n",
            "Requirement already satisfied: jupyter-core>=4.7 in /usr/local/lib/python3.10/dist-packages (from nbconvert->otter-grader) (5.7.2)\n",
            "Requirement already satisfied: jupyterlab-pygments in /usr/local/lib/python3.10/dist-packages (from nbconvert->otter-grader) (0.3.0)\n",
            "Requirement already satisfied: mistune<2,>=0.8.1 in /usr/local/lib/python3.10/dist-packages (from nbconvert->otter-grader) (0.8.4)\n",
            "Requirement already satisfied: nbclient>=0.5.0 in /usr/local/lib/python3.10/dist-packages (from nbconvert->otter-grader) (0.10.0)\n",
            "Requirement already satisfied: pandocfilters>=1.4.1 in /usr/local/lib/python3.10/dist-packages (from nbconvert->otter-grader) (1.5.1)\n",
            "Requirement already satisfied: tinycss2 in /usr/local/lib/python3.10/dist-packages (from nbconvert->otter-grader) (1.3.0)\n",
            "Requirement already satisfied: fastjsonschema>=2.15 in /usr/local/lib/python3.10/dist-packages (from nbformat->otter-grader) (2.20.0)\n",
            "Requirement already satisfied: jsonschema>=2.6 in /usr/local/lib/python3.10/dist-packages (from nbformat->otter-grader) (4.23.0)\n",
            "Requirement already satisfied: numpy<2,>=1.22.4 in /usr/local/lib/python3.10/dist-packages (from pandas->otter-grader) (1.26.4)\n",
            "Requirement already satisfied: python-dateutil>=2.8.2 in /usr/local/lib/python3.10/dist-packages (from pandas->otter-grader) (2.8.2)\n",
            "Requirement already satisfied: pytz>=2020.1 in /usr/local/lib/python3.10/dist-packages (from pandas->otter-grader) (2024.1)\n",
            "Requirement already satisfied: tzdata>=2022.1 in /usr/local/lib/python3.10/dist-packages (from pandas->otter-grader) (2024.1)\n",
            "Requirement already satisfied: pydantic!=2.0.*,<3,>=1.9 in /usr/local/lib/python3.10/dist-packages (from python-on-whales->otter-grader) (2.8.2)\n",
            "Requirement already satisfied: tqdm in /usr/local/lib/python3.10/dist-packages (from python-on-whales->otter-grader) (4.66.5)\n",
            "Requirement already satisfied: typer>=0.4.1 in /usr/local/lib/python3.10/dist-packages (from python-on-whales->otter-grader) (0.12.3)\n",
            "Requirement already satisfied: typing-extensions in /usr/local/lib/python3.10/dist-packages (from python-on-whales->otter-grader) (4.12.2)\n",
            "Requirement already satisfied: charset-normalizer<4,>=2 in /usr/local/lib/python3.10/dist-packages (from requests->otter-grader) (3.3.2)\n",
            "Requirement already satisfied: idna<4,>=2.5 in /usr/local/lib/python3.10/dist-packages (from requests->otter-grader) (3.7)\n",
            "Requirement already satisfied: urllib3<3,>=1.21.1 in /usr/local/lib/python3.10/dist-packages (from requests->otter-grader) (2.0.7)\n",
            "Requirement already satisfied: certifi>=2017.4.17 in /usr/local/lib/python3.10/dist-packages (from requests->otter-grader) (2024.7.4)\n",
            "Requirement already satisfied: jupyter-client in /usr/local/lib/python3.10/dist-packages (from ipykernel>=4.5.1->ipywidgets->otter-grader) (6.1.12)\n",
            "Requirement already satisfied: tornado>=4.2 in /usr/local/lib/python3.10/dist-packages (from ipykernel>=4.5.1->ipywidgets->otter-grader) (6.3.3)\n",
            "Requirement already satisfied: parso<0.9.0,>=0.8.3 in /usr/local/lib/python3.10/dist-packages (from jedi>=0.16->ipython->otter-grader) (0.8.4)\n",
            "Requirement already satisfied: attrs>=22.2.0 in /usr/local/lib/python3.10/dist-packages (from jsonschema>=2.6->nbformat->otter-grader) (24.2.0)\n",
            "Requirement already satisfied: jsonschema-specifications>=2023.03.6 in /usr/local/lib/python3.10/dist-packages (from jsonschema>=2.6->nbformat->otter-grader) (2023.12.1)\n",
            "Requirement already satisfied: referencing>=0.28.4 in /usr/local/lib/python3.10/dist-packages (from jsonschema>=2.6->nbformat->otter-grader) (0.35.1)\n",
            "Requirement already satisfied: rpds-py>=0.7.1 in /usr/local/lib/python3.10/dist-packages (from jsonschema>=2.6->nbformat->otter-grader) (0.20.0)\n",
            "Requirement already satisfied: platformdirs>=2.5 in /usr/local/lib/python3.10/dist-packages (from jupyter-core>=4.7->nbconvert->otter-grader) (4.2.2)\n",
            "Requirement already satisfied: mdurl~=0.1 in /usr/local/lib/python3.10/dist-packages (from markdown-it-py>=1.0->jupytext->otter-grader) (0.1.2)\n",
            "Requirement already satisfied: ptyprocess>=0.5 in /usr/local/lib/python3.10/dist-packages (from pexpect>4.3->ipython->otter-grader) (0.7.0)\n",
            "Requirement already satisfied: wcwidth in /usr/local/lib/python3.10/dist-packages (from prompt-toolkit!=3.0.0,!=3.0.1,<3.1.0,>=2.0.0->ipython->otter-grader) (0.2.13)\n",
            "Requirement already satisfied: annotated-types>=0.4.0 in /usr/local/lib/python3.10/dist-packages (from pydantic!=2.0.*,<3,>=1.9->python-on-whales->otter-grader) (0.7.0)\n",
            "Requirement already satisfied: pydantic-core==2.20.1 in /usr/local/lib/python3.10/dist-packages (from pydantic!=2.0.*,<3,>=1.9->python-on-whales->otter-grader) (2.20.1)\n",
            "Requirement already satisfied: shellingham>=1.3.0 in /usr/local/lib/python3.10/dist-packages (from typer>=0.4.1->python-on-whales->otter-grader) (1.5.4)\n",
            "Requirement already satisfied: rich>=10.11.0 in /usr/local/lib/python3.10/dist-packages (from typer>=0.4.1->python-on-whales->otter-grader) (13.7.1)\n",
            "Requirement already satisfied: notebook>=4.4.1 in /usr/local/lib/python3.10/dist-packages (from widgetsnbextension~=3.6.0->ipywidgets->otter-grader) (6.5.5)\n",
            "Requirement already satisfied: soupsieve>1.2 in /usr/local/lib/python3.10/dist-packages (from beautifulsoup4->nbconvert->otter-grader) (2.5)\n",
            "Requirement already satisfied: webencodings in /usr/local/lib/python3.10/dist-packages (from bleach->nbconvert->otter-grader) (0.5.1)\n",
            "Requirement already satisfied: sphinxcontrib-applehelp in /usr/local/lib/python3.10/dist-packages (from sphinx->fica>=0.3.1->otter-grader) (2.0.0)\n",
            "Requirement already satisfied: sphinxcontrib-devhelp in /usr/local/lib/python3.10/dist-packages (from sphinx->fica>=0.3.1->otter-grader) (2.0.0)\n",
            "Requirement already satisfied: sphinxcontrib-jsmath in /usr/local/lib/python3.10/dist-packages (from sphinx->fica>=0.3.1->otter-grader) (1.0.1)\n",
            "Requirement already satisfied: sphinxcontrib-htmlhelp>=2.0.0 in /usr/local/lib/python3.10/dist-packages (from sphinx->fica>=0.3.1->otter-grader) (2.1.0)\n",
            "Requirement already satisfied: sphinxcontrib-serializinghtml>=1.1.5 in /usr/local/lib/python3.10/dist-packages (from sphinx->fica>=0.3.1->otter-grader) (2.0.0)\n",
            "Requirement already satisfied: sphinxcontrib-qthelp in /usr/local/lib/python3.10/dist-packages (from sphinx->fica>=0.3.1->otter-grader) (2.0.0)\n",
            "Requirement already satisfied: snowballstemmer>=1.1 in /usr/local/lib/python3.10/dist-packages (from sphinx->fica>=0.3.1->otter-grader) (2.2.0)\n",
            "Requirement already satisfied: babel>=1.3 in /usr/local/lib/python3.10/dist-packages (from sphinx->fica>=0.3.1->otter-grader) (2.15.0)\n",
            "Requirement already satisfied: alabaster<0.8,>=0.7 in /usr/local/lib/python3.10/dist-packages (from sphinx->fica>=0.3.1->otter-grader) (0.7.16)\n",
            "Requirement already satisfied: imagesize in /usr/local/lib/python3.10/dist-packages (from sphinx->fica>=0.3.1->otter-grader) (1.4.1)\n",
            "Requirement already satisfied: pyzmq>=13 in /usr/local/lib/python3.10/dist-packages (from jupyter-client->ipykernel>=4.5.1->ipywidgets->otter-grader) (24.0.1)\n",
            "Requirement already satisfied: argon2-cffi in /usr/local/lib/python3.10/dist-packages (from notebook>=4.4.1->widgetsnbextension~=3.6.0->ipywidgets->otter-grader) (23.1.0)\n",
            "Requirement already satisfied: nest-asyncio>=1.5 in /usr/local/lib/python3.10/dist-packages (from notebook>=4.4.1->widgetsnbextension~=3.6.0->ipywidgets->otter-grader) (1.6.0)\n",
            "Requirement already satisfied: Send2Trash>=1.8.0 in /usr/local/lib/python3.10/dist-packages (from notebook>=4.4.1->widgetsnbextension~=3.6.0->ipywidgets->otter-grader) (1.8.3)\n",
            "Requirement already satisfied: terminado>=0.8.3 in /usr/local/lib/python3.10/dist-packages (from notebook>=4.4.1->widgetsnbextension~=3.6.0->ipywidgets->otter-grader) (0.18.1)\n",
            "Requirement already satisfied: prometheus-client in /usr/local/lib/python3.10/dist-packages (from notebook>=4.4.1->widgetsnbextension~=3.6.0->ipywidgets->otter-grader) (0.20.0)\n",
            "Requirement already satisfied: nbclassic>=0.4.7 in /usr/local/lib/python3.10/dist-packages (from notebook>=4.4.1->widgetsnbextension~=3.6.0->ipywidgets->otter-grader) (1.1.0)\n",
            "Requirement already satisfied: notebook-shim>=0.2.3 in /usr/local/lib/python3.10/dist-packages (from nbclassic>=0.4.7->notebook>=4.4.1->widgetsnbextension~=3.6.0->ipywidgets->otter-grader) (0.2.4)\n",
            "Requirement already satisfied: argon2-cffi-bindings in /usr/local/lib/python3.10/dist-packages (from argon2-cffi->notebook>=4.4.1->widgetsnbextension~=3.6.0->ipywidgets->otter-grader) (21.2.0)\n",
            "Requirement already satisfied: jupyter-server<3,>=1.8 in /usr/local/lib/python3.10/dist-packages (from notebook-shim>=0.2.3->nbclassic>=0.4.7->notebook>=4.4.1->widgetsnbextension~=3.6.0->ipywidgets->otter-grader) (1.24.0)\n",
            "Requirement already satisfied: cffi>=1.0.1 in /usr/local/lib/python3.10/dist-packages (from argon2-cffi-bindings->argon2-cffi->notebook>=4.4.1->widgetsnbextension~=3.6.0->ipywidgets->otter-grader) (1.17.0)\n",
            "Requirement already satisfied: pycparser in /usr/local/lib/python3.10/dist-packages (from cffi>=1.0.1->argon2-cffi-bindings->argon2-cffi->notebook>=4.4.1->widgetsnbextension~=3.6.0->ipywidgets->otter-grader) (2.22)\n",
            "Requirement already satisfied: anyio<4,>=3.1.0 in /usr/local/lib/python3.10/dist-packages (from jupyter-server<3,>=1.8->notebook-shim>=0.2.3->nbclassic>=0.4.7->notebook>=4.4.1->widgetsnbextension~=3.6.0->ipywidgets->otter-grader) (3.7.1)\n",
            "Requirement already satisfied: websocket-client in /usr/local/lib/python3.10/dist-packages (from jupyter-server<3,>=1.8->notebook-shim>=0.2.3->nbclassic>=0.4.7->notebook>=4.4.1->widgetsnbextension~=3.6.0->ipywidgets->otter-grader) (1.8.0)\n",
            "Requirement already satisfied: sniffio>=1.1 in /usr/local/lib/python3.10/dist-packages (from anyio<4,>=3.1.0->jupyter-server<3,>=1.8->notebook-shim>=0.2.3->nbclassic>=0.4.7->notebook>=4.4.1->widgetsnbextension~=3.6.0->ipywidgets->otter-grader) (1.3.1)\n",
            "Requirement already satisfied: exceptiongroup in /usr/local/lib/python3.10/dist-packages (from anyio<4,>=3.1.0->jupyter-server<3,>=1.8->notebook-shim>=0.2.3->nbclassic>=0.4.7->notebook>=4.4.1->widgetsnbextension~=3.6.0->ipywidgets->otter-grader) (1.2.2)\n",
            "Downloading otter_grader-5.5.0-py3-none-any.whl (159 kB)\n",
            "\u001b[2K   \u001b[90m━━━━━━━━━━━━━━━━━━━━━━━━━━━━━━━━━━━━━━━━\u001b[0m \u001b[32m159.9/159.9 kB\u001b[0m \u001b[31m10.8 MB/s\u001b[0m eta \u001b[36m0:00:00\u001b[0m\n",
            "\u001b[?25hDownloading fica-0.3.1-py3-none-any.whl (12 kB)\n",
            "Downloading dill-0.3.8-py3-none-any.whl (116 kB)\n",
            "\u001b[2K   \u001b[90m━━━━━━━━━━━━━━━━━━━━━━━━━━━━━━━━━━━━━━━━\u001b[0m \u001b[32m116.3/116.3 kB\u001b[0m \u001b[31m8.9 MB/s\u001b[0m eta \u001b[36m0:00:00\u001b[0m\n",
            "\u001b[?25hDownloading ipylab-1.0.0-py3-none-any.whl (100 kB)\n",
            "\u001b[2K   \u001b[90m━━━━━━━━━━━━━━━━━━━━━━━━━━━━━━━━━━━━━━━━\u001b[0m \u001b[32m100.2/100.2 kB\u001b[0m \u001b[31m7.0 MB/s\u001b[0m eta \u001b[36m0:00:00\u001b[0m\n",
            "\u001b[?25hDownloading jupytext-1.16.4-py3-none-any.whl (153 kB)\n",
            "\u001b[2K   \u001b[90m━━━━━━━━━━━━━━━━━━━━━━━━━━━━━━━━━━━━━━━━\u001b[0m \u001b[32m153.5/153.5 kB\u001b[0m \u001b[31m11.8 MB/s\u001b[0m eta \u001b[36m0:00:00\u001b[0m\n",
            "\u001b[?25hDownloading python_on_whales-0.72.0-py3-none-any.whl (117 kB)\n",
            "\u001b[2K   \u001b[90m━━━━━━━━━━━━━━━━━━━━━━━━━━━━━━━━━━━━━━━━\u001b[0m \u001b[32m117.4/117.4 kB\u001b[0m \u001b[31m8.3 MB/s\u001b[0m eta \u001b[36m0:00:00\u001b[0m\n",
            "\u001b[?25hUsing cached jedi-0.19.1-py2.py3-none-any.whl (1.6 MB)\n",
            "Installing collected packages: jedi, dill, fica, python-on-whales, jupytext, ipylab, otter-grader\n",
            "Successfully installed dill-0.3.8 fica-0.3.1 ipylab-1.0.0 jedi-0.19.1 jupytext-1.16.4 otter-grader-5.5.0 python-on-whales-0.72.0\n"
          ]
        }
      ],
      "source": [
        "pip install otter-grader"
      ]
    },
    {
      "cell_type": "code",
      "execution_count": 17,
      "id": "a8ed038e",
      "metadata": {
        "id": "a8ed038e",
        "colab": {
          "base_uri": "https://localhost:8080/"
        },
        "outputId": "0d651339-0d6f-4130-a9b2-b0fe3599a374"
      },
      "outputs": [
        {
          "output_type": "stream",
          "name": "stdout",
          "text": [
            "Collecting febedatasets\n",
            "  Downloading febedatasets-1.5-py3-none-any.whl.metadata (506 bytes)\n",
            "Requirement already satisfied: pandas in /usr/local/lib/python3.10/dist-packages (from febedatasets) (2.1.4)\n",
            "Requirement already satisfied: Pillow in /usr/local/lib/python3.10/dist-packages (from febedatasets) (9.4.0)\n",
            "Requirement already satisfied: otter-grader in /usr/local/lib/python3.10/dist-packages (from febedatasets) (5.5.0)\n",
            "Requirement already satisfied: dill in /usr/local/lib/python3.10/dist-packages (from otter-grader->febedatasets) (0.3.8)\n",
            "Requirement already satisfied: jinja2 in /usr/local/lib/python3.10/dist-packages (from otter-grader->febedatasets) (3.1.4)\n",
            "Requirement already satisfied: nbformat in /usr/local/lib/python3.10/dist-packages (from otter-grader->febedatasets) (5.10.4)\n",
            "Requirement already satisfied: PyYAML in /usr/local/lib/python3.10/dist-packages (from otter-grader->febedatasets) (6.0.2)\n",
            "Requirement already satisfied: python-on-whales in /usr/local/lib/python3.10/dist-packages (from otter-grader->febedatasets) (0.72.0)\n",
            "Requirement already satisfied: requests in /usr/local/lib/python3.10/dist-packages (from otter-grader->febedatasets) (2.32.3)\n",
            "Requirement already satisfied: wrapt in /usr/local/lib/python3.10/dist-packages (from otter-grader->febedatasets) (1.16.0)\n",
            "Requirement already satisfied: jupytext in /usr/local/lib/python3.10/dist-packages (from otter-grader->febedatasets) (1.16.4)\n",
            "Requirement already satisfied: click in /usr/local/lib/python3.10/dist-packages (from otter-grader->febedatasets) (8.1.7)\n",
            "Requirement already satisfied: fica>=0.3.1 in /usr/local/lib/python3.10/dist-packages (from otter-grader->febedatasets) (0.3.1)\n",
            "Requirement already satisfied: ipython in /usr/local/lib/python3.10/dist-packages (from otter-grader->febedatasets) (7.34.0)\n",
            "Requirement already satisfied: astunparse in /usr/local/lib/python3.10/dist-packages (from otter-grader->febedatasets) (1.6.3)\n",
            "Requirement already satisfied: ipywidgets in /usr/local/lib/python3.10/dist-packages (from otter-grader->febedatasets) (7.7.1)\n",
            "Requirement already satisfied: ipylab in /usr/local/lib/python3.10/dist-packages (from otter-grader->febedatasets) (1.0.0)\n",
            "Requirement already satisfied: nbconvert in /usr/local/lib/python3.10/dist-packages (from otter-grader->febedatasets) (6.5.4)\n",
            "Requirement already satisfied: numpy<2,>=1.22.4 in /usr/local/lib/python3.10/dist-packages (from pandas->febedatasets) (1.26.4)\n",
            "Requirement already satisfied: python-dateutil>=2.8.2 in /usr/local/lib/python3.10/dist-packages (from pandas->febedatasets) (2.8.2)\n",
            "Requirement already satisfied: pytz>=2020.1 in /usr/local/lib/python3.10/dist-packages (from pandas->febedatasets) (2024.1)\n",
            "Requirement already satisfied: tzdata>=2022.1 in /usr/local/lib/python3.10/dist-packages (from pandas->febedatasets) (2024.1)\n",
            "Requirement already satisfied: docutils in /usr/local/lib/python3.10/dist-packages (from fica>=0.3.1->otter-grader->febedatasets) (0.18.1)\n",
            "Requirement already satisfied: sphinx in /usr/local/lib/python3.10/dist-packages (from fica>=0.3.1->otter-grader->febedatasets) (5.0.2)\n",
            "Requirement already satisfied: six>=1.5 in /usr/local/lib/python3.10/dist-packages (from python-dateutil>=2.8.2->pandas->febedatasets) (1.16.0)\n",
            "Requirement already satisfied: wheel<1.0,>=0.23.0 in /usr/local/lib/python3.10/dist-packages (from astunparse->otter-grader->febedatasets) (0.44.0)\n",
            "Requirement already satisfied: ipykernel>=4.5.1 in /usr/local/lib/python3.10/dist-packages (from ipywidgets->otter-grader->febedatasets) (5.5.6)\n",
            "Requirement already satisfied: ipython-genutils~=0.2.0 in /usr/local/lib/python3.10/dist-packages (from ipywidgets->otter-grader->febedatasets) (0.2.0)\n",
            "Requirement already satisfied: traitlets>=4.3.1 in /usr/local/lib/python3.10/dist-packages (from ipywidgets->otter-grader->febedatasets) (5.7.1)\n",
            "Requirement already satisfied: widgetsnbextension~=3.6.0 in /usr/local/lib/python3.10/dist-packages (from ipywidgets->otter-grader->febedatasets) (3.6.8)\n",
            "Requirement already satisfied: jupyterlab-widgets>=1.0.0 in /usr/local/lib/python3.10/dist-packages (from ipywidgets->otter-grader->febedatasets) (3.0.11)\n",
            "Requirement already satisfied: setuptools>=18.5 in /usr/local/lib/python3.10/dist-packages (from ipython->otter-grader->febedatasets) (71.0.4)\n",
            "Requirement already satisfied: jedi>=0.16 in /usr/local/lib/python3.10/dist-packages (from ipython->otter-grader->febedatasets) (0.19.1)\n",
            "Requirement already satisfied: decorator in /usr/local/lib/python3.10/dist-packages (from ipython->otter-grader->febedatasets) (4.4.2)\n",
            "Requirement already satisfied: pickleshare in /usr/local/lib/python3.10/dist-packages (from ipython->otter-grader->febedatasets) (0.7.5)\n",
            "Requirement already satisfied: prompt-toolkit!=3.0.0,!=3.0.1,<3.1.0,>=2.0.0 in /usr/local/lib/python3.10/dist-packages (from ipython->otter-grader->febedatasets) (3.0.47)\n",
            "Requirement already satisfied: pygments in /usr/local/lib/python3.10/dist-packages (from ipython->otter-grader->febedatasets) (2.16.1)\n",
            "Requirement already satisfied: backcall in /usr/local/lib/python3.10/dist-packages (from ipython->otter-grader->febedatasets) (0.2.0)\n",
            "Requirement already satisfied: matplotlib-inline in /usr/local/lib/python3.10/dist-packages (from ipython->otter-grader->febedatasets) (0.1.7)\n",
            "Requirement already satisfied: pexpect>4.3 in /usr/local/lib/python3.10/dist-packages (from ipython->otter-grader->febedatasets) (4.9.0)\n",
            "Requirement already satisfied: MarkupSafe>=2.0 in /usr/local/lib/python3.10/dist-packages (from jinja2->otter-grader->febedatasets) (2.1.5)\n",
            "Requirement already satisfied: markdown-it-py>=1.0 in /usr/local/lib/python3.10/dist-packages (from jupytext->otter-grader->febedatasets) (3.0.0)\n",
            "Requirement already satisfied: mdit-py-plugins in /usr/local/lib/python3.10/dist-packages (from jupytext->otter-grader->febedatasets) (0.4.1)\n",
            "Requirement already satisfied: packaging in /usr/local/lib/python3.10/dist-packages (from jupytext->otter-grader->febedatasets) (24.1)\n",
            "Requirement already satisfied: tomli in /usr/local/lib/python3.10/dist-packages (from jupytext->otter-grader->febedatasets) (2.0.1)\n",
            "Requirement already satisfied: lxml in /usr/local/lib/python3.10/dist-packages (from nbconvert->otter-grader->febedatasets) (4.9.4)\n",
            "Requirement already satisfied: beautifulsoup4 in /usr/local/lib/python3.10/dist-packages (from nbconvert->otter-grader->febedatasets) (4.12.3)\n",
            "Requirement already satisfied: bleach in /usr/local/lib/python3.10/dist-packages (from nbconvert->otter-grader->febedatasets) (6.1.0)\n",
            "Requirement already satisfied: defusedxml in /usr/local/lib/python3.10/dist-packages (from nbconvert->otter-grader->febedatasets) (0.7.1)\n",
            "Requirement already satisfied: entrypoints>=0.2.2 in /usr/local/lib/python3.10/dist-packages (from nbconvert->otter-grader->febedatasets) (0.4)\n",
            "Requirement already satisfied: jupyter-core>=4.7 in /usr/local/lib/python3.10/dist-packages (from nbconvert->otter-grader->febedatasets) (5.7.2)\n",
            "Requirement already satisfied: jupyterlab-pygments in /usr/local/lib/python3.10/dist-packages (from nbconvert->otter-grader->febedatasets) (0.3.0)\n",
            "Requirement already satisfied: mistune<2,>=0.8.1 in /usr/local/lib/python3.10/dist-packages (from nbconvert->otter-grader->febedatasets) (0.8.4)\n",
            "Requirement already satisfied: nbclient>=0.5.0 in /usr/local/lib/python3.10/dist-packages (from nbconvert->otter-grader->febedatasets) (0.10.0)\n",
            "Requirement already satisfied: pandocfilters>=1.4.1 in /usr/local/lib/python3.10/dist-packages (from nbconvert->otter-grader->febedatasets) (1.5.1)\n",
            "Requirement already satisfied: tinycss2 in /usr/local/lib/python3.10/dist-packages (from nbconvert->otter-grader->febedatasets) (1.3.0)\n",
            "Requirement already satisfied: fastjsonschema>=2.15 in /usr/local/lib/python3.10/dist-packages (from nbformat->otter-grader->febedatasets) (2.20.0)\n",
            "Requirement already satisfied: jsonschema>=2.6 in /usr/local/lib/python3.10/dist-packages (from nbformat->otter-grader->febedatasets) (4.23.0)\n",
            "Requirement already satisfied: pydantic!=2.0.*,<3,>=1.9 in /usr/local/lib/python3.10/dist-packages (from python-on-whales->otter-grader->febedatasets) (2.8.2)\n",
            "Requirement already satisfied: tqdm in /usr/local/lib/python3.10/dist-packages (from python-on-whales->otter-grader->febedatasets) (4.66.5)\n",
            "Requirement already satisfied: typer>=0.4.1 in /usr/local/lib/python3.10/dist-packages (from python-on-whales->otter-grader->febedatasets) (0.12.3)\n",
            "Requirement already satisfied: typing-extensions in /usr/local/lib/python3.10/dist-packages (from python-on-whales->otter-grader->febedatasets) (4.12.2)\n",
            "Requirement already satisfied: charset-normalizer<4,>=2 in /usr/local/lib/python3.10/dist-packages (from requests->otter-grader->febedatasets) (3.3.2)\n",
            "Requirement already satisfied: idna<4,>=2.5 in /usr/local/lib/python3.10/dist-packages (from requests->otter-grader->febedatasets) (3.7)\n",
            "Requirement already satisfied: urllib3<3,>=1.21.1 in /usr/local/lib/python3.10/dist-packages (from requests->otter-grader->febedatasets) (2.0.7)\n",
            "Requirement already satisfied: certifi>=2017.4.17 in /usr/local/lib/python3.10/dist-packages (from requests->otter-grader->febedatasets) (2024.7.4)\n",
            "Requirement already satisfied: jupyter-client in /usr/local/lib/python3.10/dist-packages (from ipykernel>=4.5.1->ipywidgets->otter-grader->febedatasets) (6.1.12)\n",
            "Requirement already satisfied: tornado>=4.2 in /usr/local/lib/python3.10/dist-packages (from ipykernel>=4.5.1->ipywidgets->otter-grader->febedatasets) (6.3.3)\n",
            "Requirement already satisfied: parso<0.9.0,>=0.8.3 in /usr/local/lib/python3.10/dist-packages (from jedi>=0.16->ipython->otter-grader->febedatasets) (0.8.4)\n",
            "Requirement already satisfied: attrs>=22.2.0 in /usr/local/lib/python3.10/dist-packages (from jsonschema>=2.6->nbformat->otter-grader->febedatasets) (24.2.0)\n",
            "Requirement already satisfied: jsonschema-specifications>=2023.03.6 in /usr/local/lib/python3.10/dist-packages (from jsonschema>=2.6->nbformat->otter-grader->febedatasets) (2023.12.1)\n",
            "Requirement already satisfied: referencing>=0.28.4 in /usr/local/lib/python3.10/dist-packages (from jsonschema>=2.6->nbformat->otter-grader->febedatasets) (0.35.1)\n",
            "Requirement already satisfied: rpds-py>=0.7.1 in /usr/local/lib/python3.10/dist-packages (from jsonschema>=2.6->nbformat->otter-grader->febedatasets) (0.20.0)\n",
            "Requirement already satisfied: platformdirs>=2.5 in /usr/local/lib/python3.10/dist-packages (from jupyter-core>=4.7->nbconvert->otter-grader->febedatasets) (4.2.2)\n",
            "Requirement already satisfied: mdurl~=0.1 in /usr/local/lib/python3.10/dist-packages (from markdown-it-py>=1.0->jupytext->otter-grader->febedatasets) (0.1.2)\n",
            "Requirement already satisfied: ptyprocess>=0.5 in /usr/local/lib/python3.10/dist-packages (from pexpect>4.3->ipython->otter-grader->febedatasets) (0.7.0)\n",
            "Requirement already satisfied: wcwidth in /usr/local/lib/python3.10/dist-packages (from prompt-toolkit!=3.0.0,!=3.0.1,<3.1.0,>=2.0.0->ipython->otter-grader->febedatasets) (0.2.13)\n",
            "Requirement already satisfied: annotated-types>=0.4.0 in /usr/local/lib/python3.10/dist-packages (from pydantic!=2.0.*,<3,>=1.9->python-on-whales->otter-grader->febedatasets) (0.7.0)\n",
            "Requirement already satisfied: pydantic-core==2.20.1 in /usr/local/lib/python3.10/dist-packages (from pydantic!=2.0.*,<3,>=1.9->python-on-whales->otter-grader->febedatasets) (2.20.1)\n",
            "Requirement already satisfied: shellingham>=1.3.0 in /usr/local/lib/python3.10/dist-packages (from typer>=0.4.1->python-on-whales->otter-grader->febedatasets) (1.5.4)\n",
            "Requirement already satisfied: rich>=10.11.0 in /usr/local/lib/python3.10/dist-packages (from typer>=0.4.1->python-on-whales->otter-grader->febedatasets) (13.7.1)\n",
            "Requirement already satisfied: notebook>=4.4.1 in /usr/local/lib/python3.10/dist-packages (from widgetsnbextension~=3.6.0->ipywidgets->otter-grader->febedatasets) (6.5.5)\n",
            "Requirement already satisfied: soupsieve>1.2 in /usr/local/lib/python3.10/dist-packages (from beautifulsoup4->nbconvert->otter-grader->febedatasets) (2.5)\n",
            "Requirement already satisfied: webencodings in /usr/local/lib/python3.10/dist-packages (from bleach->nbconvert->otter-grader->febedatasets) (0.5.1)\n",
            "Requirement already satisfied: sphinxcontrib-applehelp in /usr/local/lib/python3.10/dist-packages (from sphinx->fica>=0.3.1->otter-grader->febedatasets) (2.0.0)\n",
            "Requirement already satisfied: sphinxcontrib-devhelp in /usr/local/lib/python3.10/dist-packages (from sphinx->fica>=0.3.1->otter-grader->febedatasets) (2.0.0)\n",
            "Requirement already satisfied: sphinxcontrib-jsmath in /usr/local/lib/python3.10/dist-packages (from sphinx->fica>=0.3.1->otter-grader->febedatasets) (1.0.1)\n",
            "Requirement already satisfied: sphinxcontrib-htmlhelp>=2.0.0 in /usr/local/lib/python3.10/dist-packages (from sphinx->fica>=0.3.1->otter-grader->febedatasets) (2.1.0)\n",
            "Requirement already satisfied: sphinxcontrib-serializinghtml>=1.1.5 in /usr/local/lib/python3.10/dist-packages (from sphinx->fica>=0.3.1->otter-grader->febedatasets) (2.0.0)\n",
            "Requirement already satisfied: sphinxcontrib-qthelp in /usr/local/lib/python3.10/dist-packages (from sphinx->fica>=0.3.1->otter-grader->febedatasets) (2.0.0)\n",
            "Requirement already satisfied: snowballstemmer>=1.1 in /usr/local/lib/python3.10/dist-packages (from sphinx->fica>=0.3.1->otter-grader->febedatasets) (2.2.0)\n",
            "Requirement already satisfied: babel>=1.3 in /usr/local/lib/python3.10/dist-packages (from sphinx->fica>=0.3.1->otter-grader->febedatasets) (2.15.0)\n",
            "Requirement already satisfied: alabaster<0.8,>=0.7 in /usr/local/lib/python3.10/dist-packages (from sphinx->fica>=0.3.1->otter-grader->febedatasets) (0.7.16)\n",
            "Requirement already satisfied: imagesize in /usr/local/lib/python3.10/dist-packages (from sphinx->fica>=0.3.1->otter-grader->febedatasets) (1.4.1)\n",
            "Requirement already satisfied: pyzmq>=13 in /usr/local/lib/python3.10/dist-packages (from jupyter-client->ipykernel>=4.5.1->ipywidgets->otter-grader->febedatasets) (24.0.1)\n",
            "Requirement already satisfied: argon2-cffi in /usr/local/lib/python3.10/dist-packages (from notebook>=4.4.1->widgetsnbextension~=3.6.0->ipywidgets->otter-grader->febedatasets) (23.1.0)\n",
            "Requirement already satisfied: nest-asyncio>=1.5 in /usr/local/lib/python3.10/dist-packages (from notebook>=4.4.1->widgetsnbextension~=3.6.0->ipywidgets->otter-grader->febedatasets) (1.6.0)\n",
            "Requirement already satisfied: Send2Trash>=1.8.0 in /usr/local/lib/python3.10/dist-packages (from notebook>=4.4.1->widgetsnbextension~=3.6.0->ipywidgets->otter-grader->febedatasets) (1.8.3)\n",
            "Requirement already satisfied: terminado>=0.8.3 in /usr/local/lib/python3.10/dist-packages (from notebook>=4.4.1->widgetsnbextension~=3.6.0->ipywidgets->otter-grader->febedatasets) (0.18.1)\n",
            "Requirement already satisfied: prometheus-client in /usr/local/lib/python3.10/dist-packages (from notebook>=4.4.1->widgetsnbextension~=3.6.0->ipywidgets->otter-grader->febedatasets) (0.20.0)\n",
            "Requirement already satisfied: nbclassic>=0.4.7 in /usr/local/lib/python3.10/dist-packages (from notebook>=4.4.1->widgetsnbextension~=3.6.0->ipywidgets->otter-grader->febedatasets) (1.1.0)\n",
            "Requirement already satisfied: notebook-shim>=0.2.3 in /usr/local/lib/python3.10/dist-packages (from nbclassic>=0.4.7->notebook>=4.4.1->widgetsnbextension~=3.6.0->ipywidgets->otter-grader->febedatasets) (0.2.4)\n",
            "Requirement already satisfied: argon2-cffi-bindings in /usr/local/lib/python3.10/dist-packages (from argon2-cffi->notebook>=4.4.1->widgetsnbextension~=3.6.0->ipywidgets->otter-grader->febedatasets) (21.2.0)\n",
            "Requirement already satisfied: jupyter-server<3,>=1.8 in /usr/local/lib/python3.10/dist-packages (from notebook-shim>=0.2.3->nbclassic>=0.4.7->notebook>=4.4.1->widgetsnbextension~=3.6.0->ipywidgets->otter-grader->febedatasets) (1.24.0)\n",
            "Requirement already satisfied: cffi>=1.0.1 in /usr/local/lib/python3.10/dist-packages (from argon2-cffi-bindings->argon2-cffi->notebook>=4.4.1->widgetsnbextension~=3.6.0->ipywidgets->otter-grader->febedatasets) (1.17.0)\n",
            "Requirement already satisfied: pycparser in /usr/local/lib/python3.10/dist-packages (from cffi>=1.0.1->argon2-cffi-bindings->argon2-cffi->notebook>=4.4.1->widgetsnbextension~=3.6.0->ipywidgets->otter-grader->febedatasets) (2.22)\n",
            "Requirement already satisfied: anyio<4,>=3.1.0 in /usr/local/lib/python3.10/dist-packages (from jupyter-server<3,>=1.8->notebook-shim>=0.2.3->nbclassic>=0.4.7->notebook>=4.4.1->widgetsnbextension~=3.6.0->ipywidgets->otter-grader->febedatasets) (3.7.1)\n",
            "Requirement already satisfied: websocket-client in /usr/local/lib/python3.10/dist-packages (from jupyter-server<3,>=1.8->notebook-shim>=0.2.3->nbclassic>=0.4.7->notebook>=4.4.1->widgetsnbextension~=3.6.0->ipywidgets->otter-grader->febedatasets) (1.8.0)\n",
            "Requirement already satisfied: sniffio>=1.1 in /usr/local/lib/python3.10/dist-packages (from anyio<4,>=3.1.0->jupyter-server<3,>=1.8->notebook-shim>=0.2.3->nbclassic>=0.4.7->notebook>=4.4.1->widgetsnbextension~=3.6.0->ipywidgets->otter-grader->febedatasets) (1.3.1)\n",
            "Requirement already satisfied: exceptiongroup in /usr/local/lib/python3.10/dist-packages (from anyio<4,>=3.1.0->jupyter-server<3,>=1.8->notebook-shim>=0.2.3->nbclassic>=0.4.7->notebook>=4.4.1->widgetsnbextension~=3.6.0->ipywidgets->otter-grader->febedatasets) (1.2.2)\n",
            "Downloading febedatasets-1.5-py3-none-any.whl (1.0 MB)\n",
            "\u001b[2K   \u001b[90m━━━━━━━━━━━━━━━━━━━━━━━━━━━━━━━━━━━━━━━━\u001b[0m \u001b[32m1.0/1.0 MB\u001b[0m \u001b[31m30.4 MB/s\u001b[0m eta \u001b[36m0:00:00\u001b[0m\n",
            "\u001b[?25hInstalling collected packages: febedatasets\n",
            "Successfully installed febedatasets-1.5\n"
          ]
        }
      ],
      "source": [
        "pip install febedatasets"
      ]
    },
    {
      "cell_type": "code",
      "execution_count": 18,
      "id": "b32c0652",
      "metadata": {
        "id": "b32c0652"
      },
      "outputs": [],
      "source": [
        "from lab02 import init_grader, load_datasetpath"
      ]
    },
    {
      "cell_type": "code",
      "execution_count": 19,
      "id": "2aa23af5",
      "metadata": {
        "id": "2aa23af5"
      },
      "outputs": [],
      "source": [
        "grader = init_grader()"
      ]
    },
    {
      "cell_type": "code",
      "source": [
        "pip install datascience"
      ],
      "metadata": {
        "colab": {
          "base_uri": "https://localhost:8080/"
        },
        "id": "bXVqKfEBIIKC",
        "outputId": "3e0e381a-920c-43e3-ca6d-0a74a7093048"
      },
      "id": "bXVqKfEBIIKC",
      "execution_count": 34,
      "outputs": [
        {
          "output_type": "stream",
          "name": "stdout",
          "text": [
            "Requirement already satisfied: datascience in /usr/local/lib/python3.10/dist-packages (0.17.6)\n",
            "Requirement already satisfied: folium>=0.9.1 in /usr/local/lib/python3.10/dist-packages (from datascience) (0.17.0)\n",
            "Requirement already satisfied: setuptools in /usr/local/lib/python3.10/dist-packages (from datascience) (71.0.4)\n",
            "Requirement already satisfied: matplotlib>=3.0.0 in /usr/local/lib/python3.10/dist-packages (from datascience) (3.7.1)\n",
            "Requirement already satisfied: pandas in /usr/local/lib/python3.10/dist-packages (from datascience) (2.1.4)\n",
            "Requirement already satisfied: scipy in /usr/local/lib/python3.10/dist-packages (from datascience) (1.13.1)\n",
            "Requirement already satisfied: numpy in /usr/local/lib/python3.10/dist-packages (from datascience) (1.26.4)\n",
            "Requirement already satisfied: ipython in /usr/local/lib/python3.10/dist-packages (from datascience) (7.34.0)\n",
            "Requirement already satisfied: plotly in /usr/local/lib/python3.10/dist-packages (from datascience) (5.15.0)\n",
            "Requirement already satisfied: branca in /usr/local/lib/python3.10/dist-packages (from datascience) (0.7.2)\n",
            "Requirement already satisfied: jinja2>=2.9 in /usr/local/lib/python3.10/dist-packages (from folium>=0.9.1->datascience) (3.1.4)\n",
            "Requirement already satisfied: requests in /usr/local/lib/python3.10/dist-packages (from folium>=0.9.1->datascience) (2.32.3)\n",
            "Requirement already satisfied: xyzservices in /usr/local/lib/python3.10/dist-packages (from folium>=0.9.1->datascience) (2024.6.0)\n",
            "Requirement already satisfied: contourpy>=1.0.1 in /usr/local/lib/python3.10/dist-packages (from matplotlib>=3.0.0->datascience) (1.2.1)\n",
            "Requirement already satisfied: cycler>=0.10 in /usr/local/lib/python3.10/dist-packages (from matplotlib>=3.0.0->datascience) (0.12.1)\n",
            "Requirement already satisfied: fonttools>=4.22.0 in /usr/local/lib/python3.10/dist-packages (from matplotlib>=3.0.0->datascience) (4.53.1)\n",
            "Requirement already satisfied: kiwisolver>=1.0.1 in /usr/local/lib/python3.10/dist-packages (from matplotlib>=3.0.0->datascience) (1.4.5)\n",
            "Requirement already satisfied: packaging>=20.0 in /usr/local/lib/python3.10/dist-packages (from matplotlib>=3.0.0->datascience) (24.1)\n",
            "Requirement already satisfied: pillow>=6.2.0 in /usr/local/lib/python3.10/dist-packages (from matplotlib>=3.0.0->datascience) (9.4.0)\n",
            "Requirement already satisfied: pyparsing>=2.3.1 in /usr/local/lib/python3.10/dist-packages (from matplotlib>=3.0.0->datascience) (3.1.2)\n",
            "Requirement already satisfied: python-dateutil>=2.7 in /usr/local/lib/python3.10/dist-packages (from matplotlib>=3.0.0->datascience) (2.8.2)\n",
            "Requirement already satisfied: jedi>=0.16 in /usr/local/lib/python3.10/dist-packages (from ipython->datascience) (0.19.1)\n",
            "Requirement already satisfied: decorator in /usr/local/lib/python3.10/dist-packages (from ipython->datascience) (4.4.2)\n",
            "Requirement already satisfied: pickleshare in /usr/local/lib/python3.10/dist-packages (from ipython->datascience) (0.7.5)\n",
            "Requirement already satisfied: traitlets>=4.2 in /usr/local/lib/python3.10/dist-packages (from ipython->datascience) (5.7.1)\n",
            "Requirement already satisfied: prompt-toolkit!=3.0.0,!=3.0.1,<3.1.0,>=2.0.0 in /usr/local/lib/python3.10/dist-packages (from ipython->datascience) (3.0.47)\n",
            "Requirement already satisfied: pygments in /usr/local/lib/python3.10/dist-packages (from ipython->datascience) (2.16.1)\n",
            "Requirement already satisfied: backcall in /usr/local/lib/python3.10/dist-packages (from ipython->datascience) (0.2.0)\n",
            "Requirement already satisfied: matplotlib-inline in /usr/local/lib/python3.10/dist-packages (from ipython->datascience) (0.1.7)\n",
            "Requirement already satisfied: pexpect>4.3 in /usr/local/lib/python3.10/dist-packages (from ipython->datascience) (4.9.0)\n",
            "Requirement already satisfied: pytz>=2020.1 in /usr/local/lib/python3.10/dist-packages (from pandas->datascience) (2024.1)\n",
            "Requirement already satisfied: tzdata>=2022.1 in /usr/local/lib/python3.10/dist-packages (from pandas->datascience) (2024.1)\n",
            "Requirement already satisfied: tenacity>=6.2.0 in /usr/local/lib/python3.10/dist-packages (from plotly->datascience) (9.0.0)\n",
            "Requirement already satisfied: parso<0.9.0,>=0.8.3 in /usr/local/lib/python3.10/dist-packages (from jedi>=0.16->ipython->datascience) (0.8.4)\n",
            "Requirement already satisfied: MarkupSafe>=2.0 in /usr/local/lib/python3.10/dist-packages (from jinja2>=2.9->folium>=0.9.1->datascience) (2.1.5)\n",
            "Requirement already satisfied: ptyprocess>=0.5 in /usr/local/lib/python3.10/dist-packages (from pexpect>4.3->ipython->datascience) (0.7.0)\n",
            "Requirement already satisfied: wcwidth in /usr/local/lib/python3.10/dist-packages (from prompt-toolkit!=3.0.0,!=3.0.1,<3.1.0,>=2.0.0->ipython->datascience) (0.2.13)\n",
            "Requirement already satisfied: six>=1.5 in /usr/local/lib/python3.10/dist-packages (from python-dateutil>=2.7->matplotlib>=3.0.0->datascience) (1.16.0)\n",
            "Requirement already satisfied: charset-normalizer<4,>=2 in /usr/local/lib/python3.10/dist-packages (from requests->folium>=0.9.1->datascience) (3.3.2)\n",
            "Requirement already satisfied: idna<4,>=2.5 in /usr/local/lib/python3.10/dist-packages (from requests->folium>=0.9.1->datascience) (3.7)\n",
            "Requirement already satisfied: urllib3<3,>=1.21.1 in /usr/local/lib/python3.10/dist-packages (from requests->folium>=0.9.1->datascience) (2.0.7)\n",
            "Requirement already satisfied: certifi>=2017.4.17 in /usr/local/lib/python3.10/dist-packages (from requests->folium>=0.9.1->datascience) (2024.7.4)\n"
          ]
        }
      ]
    },
    {
      "cell_type": "markdown",
      "id": "cell-lab02-1",
      "metadata": {
        "id": "cell-lab02-1"
      },
      "source": [
        "# FEBE1004A DDDM Lab 2: Table Operations\n",
        "\n",
        "Welcome to Lab 2!  This week, we'll learn how to import a module and practice table operations. The [Python Reference](https://ulwazi.wits.ac.za/courses/60606/modules/items/779024) has information that will be useful for this lab.\n",
        "\n",
        "**Recommended Reading**:\n",
        " * [Introduction to Tables](https://ulwazi.wits.ac.za/courses/60606/modules/items/771773)\n",
        "\n",
        "\n",
        "**Submission**: Once you’re finished, run all cells besides the last one, select File > Save Notebook, and then execute the final cell. Then submit the downloaded zip file, that includes your notebook, according to your instructor's directions.\n",
        "\n",
        "Let's begin by setting up the tests and imports by running the cell below."
      ]
    },
    {
      "cell_type": "code",
      "execution_count": 3,
      "id": "cell-lab02-2",
      "metadata": {
        "id": "cell-lab02-2"
      },
      "outputs": [],
      "source": [
        "# Don't change this cell; just run it.\n",
        "\n",
        "import numpy as np\n",
        "from datascience import *"
      ]
    },
    {
      "cell_type": "markdown",
      "id": "cell-lab02-3",
      "metadata": {
        "id": "cell-lab02-3"
      },
      "source": [
        "# 1. Review: The Building Blocks of Python Code\n",
        "\n",
        "The two building blocks of Python code are *expressions* and *statements*.  An **expression** is a piece of code that\n",
        "\n",
        "* is self-contained, meaning it would make sense to write it on a line by itself, and\n",
        "* usually evaluates to a value.\n",
        "\n",
        "\n",
        "Here are two expressions that both evaluate to 3:\n",
        "\n",
        "    3\n",
        "    5 - 2\n",
        "    \n",
        "One important type of expression is the **call expression**. A call expression begins with the name of a function and is followed by the argument(s) of that function in parentheses. The function returns some value, based on its arguments. Some important mathematical functions are listed below.\n",
        "\n",
        "| Function | Description                                                   |\n",
        "|----------|---------------------------------------------------------------|\n",
        "| `abs`      | Returns the absolute value of its argument                    |\n",
        "| `max`      | Returns the maximum of all its arguments                      |\n",
        "| `min`      | Returns the minimum of all its arguments                      |\n",
        "| `pow`      | Raises its first argument to the power of its second argument |\n",
        "| `round`    | Rounds its argument to the nearest integer                     |\n",
        "\n",
        "Here are two call expressions that both evaluate to 3:\n",
        "\n",
        "    abs(2 - 5)\n",
        "    max(round(2.8), min(pow(2, 10), -1 * pow(2, 10)))\n",
        "\n",
        "The expression `2 - 5` and the two call expressions given above are examples of **compound expressions**, meaning that they are actually combinations of several smaller expressions.  `2 - 5` combines the expressions `2` and `5` by subtraction.  In this case, `2` and `5` are called **subexpressions** because they're expressions that are part of a larger expression.\n",
        "\n",
        "A **statement** is a whole line of code.  Some statements are just expressions.  The expressions listed above are examples.\n",
        "\n",
        "Other statements *make something happen* rather than *having a value*. For example, an **assignment statement** assigns a value to a name.\n",
        "\n",
        "A good way to think about this is that we're **evaluating the right-hand side** of the equals sign and **assigning it to the left-hand side**. Here are some assignment statements:\n",
        "    \n",
        "    height = 1.3\n",
        "    the_number_five = abs(-5)\n",
        "    absolute_height_difference = abs(height - 1.688)\n",
        "\n",
        "An important idea in programming is that large, interesting things can be built by combining many simple, uninteresting things.  The key to understanding a complicated piece of code is breaking it down into its simple components.\n",
        "\n",
        "For example, a lot is going on in the last statement above, but it's really just a combination of a few things.  This picture describes what's going on.\n",
        "\n",
        "<img src=\"https://github.com/DDDM-commits-colab/FEBE1004A/blob/main/lab02figs/statement.png?raw=true\">"
      ]
    },
    {
      "cell_type": "markdown",
      "id": "cell-lab02-4",
      "metadata": {
        "deletable": false,
        "editable": false,
        "id": "cell-lab02-4"
      },
      "source": [
        "**Question 1.1.** In the next cell, assign the name `new_year` to the larger number among the following two numbers:\n",
        "\n",
        "* the **absolute value** of $2^{5}-2^{11}-2^1 + 1$, and\n",
        "* $5 \\times 13 \\times 31 + 7$.\n",
        "\n",
        "Try to use just one statement (one line of code). Be sure to check your work by executing the test cell afterward.\n"
      ]
    },
    {
      "cell_type": "code",
      "execution_count": 4,
      "id": "cell-lab02-5",
      "metadata": {
        "colab": {
          "base_uri": "https://localhost:8080/"
        },
        "deletable": false,
        "id": "cell-lab02-5",
        "outputId": "e7c61fb7-aa6d-466f-f73c-1cdfefae76a6",
        "tags": []
      },
      "outputs": [
        {
          "output_type": "execute_result",
          "data": {
            "text/plain": [
              "2022"
            ]
          },
          "metadata": {},
          "execution_count": 4
        }
      ],
      "source": [
        "new_year = max(abs(2**5-2**11-2*1+1),5*13*31+7)\n",
        "new_year"
      ]
    },
    {
      "cell_type": "code",
      "execution_count": null,
      "id": "cell-lab02-6",
      "metadata": {
        "colab": {
          "base_uri": "https://localhost:8080/",
          "height": 46
        },
        "deletable": false,
        "editable": false,
        "id": "cell-lab02-6",
        "outputId": "7afe3a59-988e-4927-ddd7-71250aed5c73"
      },
      "outputs": [
        {
          "data": {
            "text/html": [
              "<p><strong><pre style='display: inline;'>q11</pre></strong> passed! 🚀</p>"
            ],
            "text/plain": [
              "q11 results: All test cases passed!"
            ]
          },
          "execution_count": 9,
          "metadata": {},
          "output_type": "execute_result"
        }
      ],
      "source": [
        "grader.check(\"q11\")"
      ]
    },
    {
      "cell_type": "markdown",
      "id": "cell-lab02-7",
      "metadata": {
        "id": "cell-lab02-7"
      },
      "source": [
        "We've asked you to use one line of code in the question above because it only involves mathematical operations. However, more complicated programming questions will more require more steps. It isn’t always a good idea to jam these steps into a single line because it can make the code harder to read and harder to debug.\n",
        "\n",
        "Good programming practice involves splitting up your code into smaller steps and using appropriate names. You'll have plenty of practice in the rest of this course!"
      ]
    },
    {
      "cell_type": "markdown",
      "id": "cell-lab02-8",
      "metadata": {
        "id": "cell-lab02-8"
      },
      "source": [
        "# 2. Importing Code\n",
        "\n",
        "Most programming involves work that is very similar to work that has been done before.  Since writing code is time-consuming, it's good to rely on others' published code when you can.  Rather than copy-pasting, Python allows us to **import modules**. A module is a file with Python code that has defined variables and functions. By importing a module, we are able to use its code in our own notebook.\n",
        "\n",
        "Python includes many useful modules that are just an `import` away.  We'll look at the `math` module as a first example. The `math` module is extremely useful in computing mathematical expressions in Python.\n",
        "\n",
        "Suppose we want to very accurately compute the area of a circle with a radius of 5 meters.  For that, we need the constant $\\pi$, which is roughly 3.14.  Conveniently, the `math` module has `pi` defined for us. Run the following cell to import the math module:"
      ]
    },
    {
      "cell_type": "code",
      "execution_count": 8,
      "id": "cell-lab02-9",
      "metadata": {
        "id": "cell-lab02-9",
        "colab": {
          "base_uri": "https://localhost:8080/"
        },
        "outputId": "57a85951-e8a3-4d13-ba59-16143609e4f9"
      },
      "outputs": [
        {
          "output_type": "execute_result",
          "data": {
            "text/plain": [
              "78.53981633974483"
            ]
          },
          "metadata": {},
          "execution_count": 8
        }
      ],
      "source": [
        "import math\n",
        "radius = 5\n",
        "area_of_circle = radius**2 * math.pi\n",
        "area_of_circle"
      ]
    },
    {
      "cell_type": "markdown",
      "id": "cell-lab02-10",
      "metadata": {
        "id": "cell-lab02-10"
      },
      "source": [
        "In the code above, the line `import math` imports the math module. This statement creates a module and then assigns the name `math` to that module. We are now able to access any variables or functions defined within `math` by typing the name of the module followed by a dot, then followed by the name of the variable or function we want.\n",
        "\n",
        "    <module name>.<name>"
      ]
    },
    {
      "cell_type": "markdown",
      "id": "cell-lab02-11",
      "metadata": {
        "deletable": false,
        "editable": false,
        "id": "cell-lab02-11"
      },
      "source": [
        "**Question 2.1.** The module `math` also provides the name `e` for the base of the natural logarithm, which is roughly 2.71. Compute $e^{\\pi}-\\pi$, giving it the name `near_twenty`.\n",
        "\n",
        "*Remember: You can access `pi` from the `math` module as well!*\n"
      ]
    },
    {
      "cell_type": "code",
      "execution_count": 12,
      "id": "cell-lab02-12",
      "metadata": {
        "deletable": false,
        "id": "cell-lab02-12",
        "tags": [],
        "colab": {
          "base_uri": "https://localhost:8080/"
        },
        "outputId": "6a82d8f5-834c-4f4e-d355-5e20a212a69d"
      },
      "outputs": [
        {
          "output_type": "execute_result",
          "data": {
            "text/plain": [
              "19.99909997918947"
            ]
          },
          "metadata": {},
          "execution_count": 12
        }
      ],
      "source": [
        "import math\n",
        "near_twenty = (math.e**math.pi)-(math.pi)\n",
        "near_twenty"
      ]
    },
    {
      "cell_type": "code",
      "execution_count": 20,
      "id": "cell-lab02-13",
      "metadata": {
        "deletable": false,
        "editable": false,
        "id": "cell-lab02-13",
        "colab": {
          "base_uri": "https://localhost:8080/",
          "height": 46
        },
        "outputId": "174332b7-f9e9-48e0-acec-b726dc467786"
      },
      "outputs": [
        {
          "output_type": "execute_result",
          "data": {
            "text/plain": [
              "q21 results: All test cases passed!"
            ],
            "text/html": [
              "<p><strong><pre style='display: inline;'>q21</pre></strong> passed! 🌈</p>"
            ]
          },
          "metadata": {},
          "execution_count": 20
        }
      ],
      "source": [
        "grader.check(\"q21\")"
      ]
    },
    {
      "cell_type": "markdown",
      "id": "cell-lab02-14",
      "metadata": {
        "deletable": false,
        "editable": false,
        "id": "cell-lab02-14"
      },
      "source": [
        "## 2.1. Accessing Functions\n",
        "\n",
        "In the question above, you accessed variables within the `math` module.\n",
        "\n",
        "**Modules** also define **functions**.  For example, `math` provides the name `floor` for the floor function.  Having imported `math` already, we can write `math.floor(7.5)` to compute the floor of 7.5.  (Note that the floor function returns the largest integer less than or equal to a given number.)\n",
        "\n",
        "**Question 2.1.1.** Compute the floor of pi using `floor` and `pi` from the `math` module.  Give the result the name `floor_of_pi`.\n"
      ]
    },
    {
      "cell_type": "code",
      "execution_count": 35,
      "id": "cell-lab02-15",
      "metadata": {
        "deletable": false,
        "id": "cell-lab02-15",
        "tags": [],
        "colab": {
          "base_uri": "https://localhost:8080/"
        },
        "outputId": "665ebf5c-359f-4a8e-9b27-c160ffafa4cd"
      },
      "outputs": [
        {
          "output_type": "execute_result",
          "data": {
            "text/plain": [
              "3"
            ]
          },
          "metadata": {},
          "execution_count": 35
        }
      ],
      "source": [
        "floor_of_pi =math.floor(math.pi)\n",
        "floor_of_pi"
      ]
    },
    {
      "cell_type": "code",
      "execution_count": 36,
      "id": "cell-lab02-16",
      "metadata": {
        "deletable": false,
        "editable": false,
        "id": "cell-lab02-16",
        "colab": {
          "base_uri": "https://localhost:8080/",
          "height": 46
        },
        "outputId": "306f0beb-933f-48d7-df87-32a7711022b7"
      },
      "outputs": [
        {
          "output_type": "execute_result",
          "data": {
            "text/plain": [
              "q211 results: All test cases passed!"
            ],
            "text/html": [
              "<p><strong><pre style='display: inline;'>q211</pre></strong> passed! 🍀</p>"
            ]
          },
          "metadata": {},
          "execution_count": 36
        }
      ],
      "source": [
        "grader.check(\"q211\")"
      ]
    },
    {
      "cell_type": "markdown",
      "id": "cell-lab02-17",
      "metadata": {
        "id": "cell-lab02-17"
      },
      "source": [
        "For your reference, below are some more examples of functions from the `math` module.\n",
        "\n",
        "Notice how different functions take in different numbers of arguments. Often, the [documentation](https://docs.python.org/3/library/math.html) of the module will provide information on how many arguments are required for each function.\n",
        "\n",
        "*Hint: If you press `shift+tab` while next to the function call, the documentation for that function will appear.*"
      ]
    },
    {
      "cell_type": "code",
      "execution_count": null,
      "id": "cell-lab02-18",
      "metadata": {
        "id": "cell-lab02-18"
      },
      "outputs": [],
      "source": [
        "# Calculating logarithms (the logarithm of 8 in base 2).\n",
        "# The result is 3 because 2 to the power of 3 is 8.\n",
        "math.log(8, 2)"
      ]
    },
    {
      "cell_type": "code",
      "execution_count": null,
      "id": "cell-lab02-19",
      "metadata": {
        "id": "cell-lab02-19"
      },
      "outputs": [],
      "source": [
        "# Calculating square roots.\n",
        "math.sqrt(5)"
      ]
    },
    {
      "cell_type": "markdown",
      "id": "cell-lab02-20",
      "metadata": {
        "id": "cell-lab02-20"
      },
      "source": [
        "There are various ways to import and access code from outside sources. The method we used above — `import <module_name>` — imports the entire module and requires that we use `<module_name>.<name>` to access its code.\n",
        "\n",
        "We can also import a specific constant or function instead of the entire module. Notice that you don't have to use the module name beforehand to reference that particular value. However, you do have to be careful about reassigning the names of the constants or functions to other values!"
      ]
    },
    {
      "cell_type": "code",
      "execution_count": null,
      "id": "cell-lab02-21",
      "metadata": {
        "id": "cell-lab02-21"
      },
      "outputs": [],
      "source": [
        "# Importing just cos and pi from math.\n",
        "# We don't have to use `math.` in front of cos or pi\n",
        "from math import cos, pi\n",
        "print(cos(pi))\n",
        "\n",
        "# We do have to use it in front of other functions from math, though\n",
        "math.log(pi)"
      ]
    },
    {
      "cell_type": "markdown",
      "id": "cell-lab02-22",
      "metadata": {
        "id": "cell-lab02-22"
      },
      "source": [
        "Or we can import every function and value from the entire module."
      ]
    },
    {
      "cell_type": "code",
      "execution_count": null,
      "id": "cell-lab02-23",
      "metadata": {
        "id": "cell-lab02-23"
      },
      "outputs": [],
      "source": [
        "# Lastly, we can import everything from math using the *\n",
        "# Once again, we don't have to use 'math.' beforehand\n",
        "from math import *\n",
        "log(pi)"
      ]
    },
    {
      "cell_type": "markdown",
      "id": "cell-lab02-24",
      "metadata": {
        "id": "cell-lab02-24"
      },
      "source": [
        "Don't worry too much about which type of import to use. It's often a coding style choice left up to each programmer. In this course, you'll always import the necessary modules when you run the setup cell (like the first code cell in this lab).\n",
        "\n",
        "Let's move on to practicing some of the table operations you've learned in lecture!"
      ]
    },
    {
      "cell_type": "markdown",
      "id": "cell-lab02-25",
      "metadata": {
        "id": "cell-lab02-25"
      },
      "source": [
        "# 3. Table Operations\n",
        "\n",
        "The table `farmers_markets.csv` contains data on farmers' markets in the United States  (data associated with [the USDA](https://apps.ams.usda.gov/FarmersMarketsExport/ExcelExport.aspx)).  Each row represents one such market.\n",
        "\n",
        "Run the next cell to load the `farmers_markets` table. There will be no output -- no output is expected as the cell contains an assignment statement. An assignment statement does not produce any output (it does not yield any value)."
      ]
    },
    {
      "cell_type": "code",
      "execution_count": null,
      "id": "cell-lab02-26",
      "metadata": {
        "deletable": false,
        "id": "cell-lab02-26"
      },
      "outputs": [],
      "source": [
        "# Just run this cell\n",
        "\n",
        "datapath = load_datasetpath('farmers_markets')\n",
        "farmers_markets = Table.read_table(datapath)\n",
        "\n"
      ]
    },
    {
      "cell_type": "markdown",
      "id": "cell-lab02-27",
      "metadata": {
        "id": "cell-lab02-27"
      },
      "source": [
        "Let's examine our table to see what data it contains.\n",
        "\n",
        "**Question 3.1.** Use the method `show` to display the first 5 rows of `farmers_markets`.\n",
        "\n",
        "*Note:* The terms \"method\" and \"function\" are technically not the same thing, but for the purposes of this course, we will use them interchangeably.\n",
        "\n",
        "**Hint:** `tbl.show(3)` will show the first 3 rows of the table named `tbl`. Additionally, make sure not to call `.show()` without an argument, as this will crash your kernel!\n"
      ]
    },
    {
      "cell_type": "code",
      "execution_count": null,
      "id": "cell-lab02-28",
      "metadata": {
        "deletable": false,
        "id": "cell-lab02-28",
        "tags": []
      },
      "outputs": [],
      "source": [
        "..."
      ]
    },
    {
      "cell_type": "markdown",
      "id": "cell-lab02-29",
      "metadata": {
        "deletable": false,
        "editable": false,
        "id": "cell-lab02-29"
      },
      "source": [
        "Notice that some of the values in this table are missing, as denoted by \"nan.\" This means either that the value is not available (e.g. if we don’t know the market’s street address) or not applicable (e.g. if the market doesn’t have a street address). You'll also notice that the table has a large number of columns in it!\n",
        "\n",
        "### `num_columns`\n",
        "\n",
        "The table property `num_columns` returns the number of columns in a table. (A \"property\" is just a method that doesn't need to be called by adding parentheses.)\n",
        "\n",
        "Example call: `tbl.num_columns` will return the number of columns in a table called `tbl`\n",
        "\n",
        "**Question 3.2.** Use `num_columns` to find the number of columns in our farmers' markets dataset.\n",
        "\n",
        "Assign the number of columns to `num_farmers_markets_columns`.\n"
      ]
    },
    {
      "cell_type": "code",
      "execution_count": null,
      "id": "cell-lab02-30",
      "metadata": {
        "deletable": false,
        "id": "cell-lab02-30",
        "tags": []
      },
      "outputs": [],
      "source": [
        "num_farmers_markets_columns = ...\n",
        "print(\"The table has\", num_farmers_markets_columns, \"columns in it!\")"
      ]
    },
    {
      "cell_type": "code",
      "execution_count": null,
      "id": "cell-lab02-31",
      "metadata": {
        "deletable": false,
        "editable": false,
        "id": "cell-lab02-31"
      },
      "outputs": [],
      "source": [
        "grader.check(\"q32\")"
      ]
    },
    {
      "cell_type": "markdown",
      "id": "cell-lab02-32",
      "metadata": {
        "id": "cell-lab02-32"
      },
      "source": [
        "### `num_rows`\n",
        "\n",
        "Similarly, the property `num_rows` tells you how many rows are in a table."
      ]
    },
    {
      "cell_type": "code",
      "execution_count": null,
      "id": "cell-lab02-33",
      "metadata": {
        "deletable": false,
        "id": "cell-lab02-33"
      },
      "outputs": [],
      "source": [
        "# Just run this cell\n",
        "\n",
        "num_farmers_markets_rows = farmers_markets.num_rows\n",
        "print(\"The table has\", num_farmers_markets_rows, \"rows in it!\")"
      ]
    },
    {
      "cell_type": "markdown",
      "id": "cell-lab02-34",
      "metadata": {
        "deletable": false,
        "editable": false,
        "id": "cell-lab02-34"
      },
      "source": [
        "### `select`\n",
        "\n",
        "Most of the columns are about particular products -- whether the market sells tofu, pet food, etc.  If we're not interested in that information, it just makes the table difficult to read.  This comes up more than you might think, because people who collect and publish data may not know ahead of time what people will want to do with it.\n",
        "\n",
        "In such situations, we can use the table method `select` to choose only the columns that we want in a particular table. It takes any number of arguments. Each should be the name of a column in the table. It returns a new table with only those columns in it. The columns are in the order *in which they were listed as arguments*.\n",
        "\n",
        "For example, the value of `farmers_markets.select(\"MarketName\", \"State\")` is a table with only the name and the state of each farmers' market in `farmers_markets`.\n",
        "\n",
        "\n",
        "\n",
        "**Question 3.3.** Use `select` to create a table with only the name, city, state, latitude (`y`), and longitude (`x`) of each market.  Call that new table `farmers_markets_locations`.\n",
        "\n",
        "*Hint:* Make sure to be exact when using column names with `select`; double-check capitalization!\n"
      ]
    },
    {
      "cell_type": "code",
      "execution_count": null,
      "id": "cell-lab02-35",
      "metadata": {
        "deletable": false,
        "id": "cell-lab02-35",
        "tags": []
      },
      "outputs": [],
      "source": [
        "farmers_markets_locations = ...\n",
        "farmers_markets_locations"
      ]
    },
    {
      "cell_type": "code",
      "execution_count": null,
      "id": "cell-lab02-36",
      "metadata": {
        "deletable": false,
        "editable": false,
        "id": "cell-lab02-36"
      },
      "outputs": [],
      "source": [
        "grader.check(\"q33\")"
      ]
    },
    {
      "cell_type": "markdown",
      "id": "cell-lab02-37",
      "metadata": {
        "deletable": false,
        "editable": false,
        "id": "cell-lab02-37"
      },
      "source": [
        "### `drop`\n",
        "\n",
        "`drop` serves the same purpose as `select`, but it takes away the columns that you provide rather than the ones that you don't provide. Like `select`, `drop` returns a new table.\n",
        "\n",
        "**Question 3.4.** Suppose you just didn't want the `FMID` and `updateTime` columns in `farmers_markets`.  Create a table that's a copy of `farmers_markets` but doesn't include those columns.  Call that table `farmers_markets_without_fmid`.\n"
      ]
    },
    {
      "cell_type": "code",
      "execution_count": null,
      "id": "cell-lab02-38",
      "metadata": {
        "deletable": false,
        "id": "cell-lab02-38",
        "tags": []
      },
      "outputs": [],
      "source": [
        "farmers_markets_without_fmid = ...\n",
        "farmers_markets_without_fmid"
      ]
    },
    {
      "cell_type": "code",
      "execution_count": null,
      "id": "cell-lab02-39",
      "metadata": {
        "deletable": false,
        "editable": false,
        "id": "cell-lab02-39"
      },
      "outputs": [],
      "source": [
        "grader.check(\"q34\")"
      ]
    },
    {
      "cell_type": "markdown",
      "id": "cell-lab02-40",
      "metadata": {
        "id": "cell-lab02-40"
      },
      "source": [
        "Now, suppose we want to answer some questions about farmers' markets in the US. For example, which market(s) have the largest longitude (given by the `x` column)?\n",
        "\n",
        "To answer this, we'll sort `farmers_markets_locations` by longitude."
      ]
    },
    {
      "cell_type": "code",
      "execution_count": null,
      "id": "cell-lab02-41",
      "metadata": {
        "id": "cell-lab02-41"
      },
      "outputs": [],
      "source": [
        "farmers_markets_locations.sort('x')"
      ]
    },
    {
      "cell_type": "markdown",
      "id": "cell-lab02-42",
      "metadata": {
        "id": "cell-lab02-42"
      },
      "source": [
        "Oops, that didn't answer our question because we sorted from smallest to largest longitude. To look at the largest longitudes, we'll have to sort in reverse order."
      ]
    },
    {
      "cell_type": "code",
      "execution_count": null,
      "id": "cell-lab02-43",
      "metadata": {
        "id": "cell-lab02-43"
      },
      "outputs": [],
      "source": [
        "farmers_markets_locations.sort('x', descending=True)"
      ]
    },
    {
      "cell_type": "markdown",
      "id": "cell-lab02-44",
      "metadata": {
        "deletable": false,
        "editable": false,
        "id": "cell-lab02-44"
      },
      "source": [
        "(The `descending=True` bit is called an *optional argument*. It has a default value of `False`, so when you explicitly tell the function `descending=True`, then the function will sort in descending order.)\n",
        "\n",
        "### `sort`\n",
        "\n",
        "Some details about sort:\n",
        "\n",
        "1. The first argument to `sort` is the name of a column to sort by.\n",
        "2. If the column has text in it, `sort` will sort alphabetically; if the column has numbers, it will sort numerically - both in ascending order by default.\n",
        "3. The value of `farmers_markets_locations.sort(\"x\")` is a *copy* of `farmers_markets_locations`; the `farmers_markets_locations` table doesn't get modified. For example, if we called `farmers_markets_locations.sort(\"x\")`, then running `farmers_markets_locations` by itself would still return the unsorted table.\n",
        "4. Rows always stick together when a table is sorted.  It wouldn't make sense to sort just one column and leave the other columns alone.  For example, in this case, if we sorted just the `x` column, the farmers' markets would all end up with the wrong longitudes.\n",
        "\n",
        "**Question 3.5.** Create a version of `farmers_markets_locations` that's sorted by **latitude (`y`)**, with the largest latitudes first.  Call it `farmers_markets_locations_by_latitude`.\n"
      ]
    },
    {
      "cell_type": "code",
      "execution_count": null,
      "id": "cell-lab02-45",
      "metadata": {
        "deletable": false,
        "id": "cell-lab02-45",
        "scrolled": true,
        "tags": []
      },
      "outputs": [],
      "source": [
        "farmers_markets_locations_by_latitude = ...\n",
        "farmers_markets_locations_by_latitude"
      ]
    },
    {
      "cell_type": "code",
      "execution_count": null,
      "id": "cell-lab02-46",
      "metadata": {
        "deletable": false,
        "editable": false,
        "id": "cell-lab02-46"
      },
      "outputs": [],
      "source": [
        "grader.check(\"q35\")"
      ]
    },
    {
      "cell_type": "markdown",
      "id": "cell-lab02-47",
      "metadata": {
        "id": "cell-lab02-47"
      },
      "source": [
        "Now let's say we want a table of all farmers' markets in California. Sorting won't help us much here because California  is closer to the middle of the dataset.\n",
        "\n",
        "Instead, we use the table method `where`."
      ]
    },
    {
      "cell_type": "code",
      "execution_count": null,
      "id": "cell-lab02-48",
      "metadata": {
        "deletable": false,
        "id": "cell-lab02-48"
      },
      "outputs": [],
      "source": [
        "california_farmers_markets = farmers_markets_locations.where('State', are.equal_to('California'))\n",
        "california_farmers_markets"
      ]
    },
    {
      "cell_type": "markdown",
      "id": "cell-lab02-49",
      "metadata": {
        "id": "cell-lab02-49"
      },
      "source": [
        "Ignore the syntax for the moment.  Instead, try to read that line like this:\n",
        "\n",
        "> Assign the name **`california_farmers_markets`** to a table whose rows are the rows in the **`farmers_markets_locations`** table **`where`** the **`\"State\"`** **`are equal to` `\"California\"`**."
      ]
    },
    {
      "cell_type": "markdown",
      "id": "cell-lab02-50",
      "metadata": {
        "id": "cell-lab02-50"
      },
      "source": [
        "### `where`\n",
        "\n",
        "Now let's dive into the details a bit more.  `where` takes 2 arguments:\n",
        "\n",
        "1. The name of a column.  `where` finds rows where that column's values meet some criterion.\n",
        "2. A predicate that describes the criterion that the column needs to meet.\n",
        "\n",
        "The predicate in the example above called the function `are.equal_to` with the value we wanted, 'California'.  We'll see other predicates soon.\n",
        "\n",
        "`where` returns a table that's a copy of the original table, but **with only the rows that meet the given predicate**."
      ]
    },
    {
      "cell_type": "markdown",
      "id": "cell-lab02-51",
      "metadata": {
        "deletable": false,
        "editable": false,
        "id": "cell-lab02-51"
      },
      "source": [
        "**Question 3.6.** Use `california_farmers_markets` to create a table called `berkeley_markets` containing farmers' markets in Berkeley, California."
      ]
    },
    {
      "cell_type": "code",
      "execution_count": null,
      "id": "cell-lab02-52",
      "metadata": {
        "deletable": false,
        "id": "cell-lab02-52",
        "tags": []
      },
      "outputs": [],
      "source": [
        "berkeley_markets = ...\n",
        "berkeley_markets"
      ]
    },
    {
      "cell_type": "code",
      "execution_count": null,
      "id": "cell-lab02-53",
      "metadata": {
        "deletable": false,
        "editable": false,
        "id": "cell-lab02-53"
      },
      "outputs": [],
      "source": [
        "grader.check(\"q36\")"
      ]
    },
    {
      "cell_type": "markdown",
      "id": "cell-lab02-54",
      "metadata": {
        "id": "cell-lab02-54"
      },
      "source": [
        "So far we've only been using `where` with the predicate that requires finding the values in a column to be *exactly* equal to a certain value. However, there are many other predicates. Here are a few:\n",
        "\n",
        "|Predicate|Example|Result|\n",
        "|-|-|-|\n",
        "|`are.equal_to`|`are.equal_to(50)`|Find rows with values equal to 50|\n",
        "|`are.not_equal_to`|`are.not_equal_to(50)`|Find rows with values not equal to 50|\n",
        "|`are.above`|`are.above(50)`|Find rows with values above (and not equal to) 50|\n",
        "|`are.above_or_equal_to`|`are.above_or_equal_to(50)`|Find rows with values above 50 or equal to 50|\n",
        "|`are.below`|`are.below(50)`|Find rows with values below 50|\n",
        "|`are.between`|`are.between(2, 10)`|Find rows with values above or equal to 2 and below 10|\n",
        "|`are.between_or_equal_to`|`are.between_or_equal_to(2, 10)`|Find rows with values above or equal to 2 and below or equal to 10|"
      ]
    },
    {
      "cell_type": "markdown",
      "id": "cell-lab02-55",
      "metadata": {
        "id": "cell-lab02-55"
      },
      "source": [
        "## 4. Analyzing a dataset\n",
        "\n",
        "Now that you're familiar with table operations, let’s answer an interesting question about a dataset!\n",
        "\n",
        "Run the cell below to load the `imdb` table. It contains information about the 250 highest-rated movies on IMDb."
      ]
    },
    {
      "cell_type": "code",
      "execution_count": null,
      "id": "cell-lab02-56",
      "metadata": {
        "colab": {
          "base_uri": "https://localhost:8080/",
          "height": 388
        },
        "deletable": false,
        "id": "cell-lab02-56",
        "outputId": "febfea05-6333-479e-f91e-633fa9a21d9c",
        "scrolled": true
      },
      "outputs": [
        {
          "data": {
            "text/html": [
              "<table border=\"1\" class=\"dataframe\">\n",
              "    <thead>\n",
              "        <tr>\n",
              "            <th>Votes</th> <th>Rating</th> <th>Title</th> <th>Year</th> <th>Decade</th>\n",
              "        </tr>\n",
              "    </thead>\n",
              "    <tbody>\n",
              "        <tr>\n",
              "            <td>88355 </td> <td>8.4   </td> <td>M                    </td> <td>1931</td> <td>1930  </td>\n",
              "        </tr>\n",
              "        <tr>\n",
              "            <td>132823</td> <td>8.3   </td> <td>Singin' in the Rain  </td> <td>1952</td> <td>1950  </td>\n",
              "        </tr>\n",
              "        <tr>\n",
              "            <td>74178 </td> <td>8.3   </td> <td>All About Eve        </td> <td>1950</td> <td>1950  </td>\n",
              "        </tr>\n",
              "        <tr>\n",
              "            <td>635139</td> <td>8.6   </td> <td>Léon                 </td> <td>1994</td> <td>1990  </td>\n",
              "        </tr>\n",
              "        <tr>\n",
              "            <td>145514</td> <td>8.2   </td> <td>The Elephant Man     </td> <td>1980</td> <td>1980  </td>\n",
              "        </tr>\n",
              "        <tr>\n",
              "            <td>425461</td> <td>8.3   </td> <td>Full Metal Jacket    </td> <td>1987</td> <td>1980  </td>\n",
              "        </tr>\n",
              "        <tr>\n",
              "            <td>441174</td> <td>8.1   </td> <td>Gone Girl            </td> <td>2014</td> <td>2010  </td>\n",
              "        </tr>\n",
              "        <tr>\n",
              "            <td>850601</td> <td>8.3   </td> <td>Batman Begins        </td> <td>2005</td> <td>2000  </td>\n",
              "        </tr>\n",
              "        <tr>\n",
              "            <td>37664 </td> <td>8.2   </td> <td>Judgment at Nuremberg</td> <td>1961</td> <td>1960  </td>\n",
              "        </tr>\n",
              "        <tr>\n",
              "            <td>46987 </td> <td>8     </td> <td>Relatos salvajes     </td> <td>2014</td> <td>2010  </td>\n",
              "        </tr>\n",
              "    </tbody>\n",
              "</table>\n",
              "<p>... (240 rows omitted)</p>"
            ],
            "text/plain": [
              "Votes  | Rating | Title                 | Year | Decade\n",
              "88355  | 8.4    | M                     | 1931 | 1930\n",
              "132823 | 8.3    | Singin' in the Rain   | 1952 | 1950\n",
              "74178  | 8.3    | All About Eve         | 1950 | 1950\n",
              "635139 | 8.6    | Léon                  | 1994 | 1990\n",
              "145514 | 8.2    | The Elephant Man      | 1980 | 1980\n",
              "425461 | 8.3    | Full Metal Jacket     | 1987 | 1980\n",
              "441174 | 8.1    | Gone Girl             | 2014 | 2010\n",
              "850601 | 8.3    | Batman Begins         | 2005 | 2000\n",
              "37664  | 8.2    | Judgment at Nuremberg | 1961 | 1960\n",
              "46987  | 8      | Relatos salvajes      | 2014 | 2010\n",
              "... (240 rows omitted)"
            ]
          },
          "execution_count": 15,
          "metadata": {},
          "output_type": "execute_result"
        }
      ],
      "source": [
        "# Just run this cell\n",
        "\n",
        "\n",
        "datapath = load_datasetpath('imdb')\n",
        "imdb = Table.read_table(datapath)\n",
        "imdb"
      ]
    },
    {
      "cell_type": "markdown",
      "id": "cell-lab02-57",
      "metadata": {
        "id": "cell-lab02-57"
      },
      "source": [
        "Often, we want to perform multiple operations - sorting, filtering, or others - in order to turn a table we have into something more useful. You can do these operations one by one, e.g.\n",
        "\n",
        "```\n",
        "first_step = original_tbl.where(“col1”, are.equal_to(12))\n",
        "second_step = first_step.sort(‘col2’, descending=True)\n",
        "```\n",
        "\n",
        "However, since the value of the expression `original_tbl.where(“col1”, are.equal_to(12))` is itself a table, you can just call a table method on it:\n",
        "\n",
        "```\n",
        "original_tbl.where(“col1”, are.equal_to(12)).sort(‘col2’, descending=True)\n",
        "```\n",
        "You should organize your work in the way that makes the most sense to you, using informative names for any intermediate tables you create."
      ]
    },
    {
      "cell_type": "markdown",
      "id": "cell-lab02-58",
      "metadata": {
        "deletable": false,
        "editable": false,
        "id": "cell-lab02-58"
      },
      "source": [
        "**Question 4.1.** Create a table of movies released between 2010 and 2015 (inclusive) with ratings above 8. The table should only contain the columns `Title` and `Rating`, **in that order**.\n",
        "\n",
        "Assign the table to the name `above_eight`.\n",
        "\n",
        "*Hint:* Think about the steps you need to take, and try to put them in an order that make sense. Feel free to create intermediate tables for each step, but please make sure you assign your final table the name `above_eight`!\n"
      ]
    },
    {
      "cell_type": "code",
      "execution_count": null,
      "id": "cell-lab02-59",
      "metadata": {
        "deletable": false,
        "id": "cell-lab02-59",
        "tags": []
      },
      "outputs": [],
      "source": [
        "above_eight = ...\n",
        "above_eight"
      ]
    },
    {
      "cell_type": "code",
      "execution_count": null,
      "id": "cell-lab02-60",
      "metadata": {
        "deletable": false,
        "editable": false,
        "id": "cell-lab02-60"
      },
      "outputs": [],
      "source": [
        "grader.check(\"q41\")"
      ]
    },
    {
      "cell_type": "markdown",
      "id": "cell-lab02-61",
      "metadata": {
        "deletable": false,
        "editable": false,
        "id": "cell-lab02-61"
      },
      "source": [
        "**Question 4.2.** Use `num_rows` (and arithmetic) to find the *proportion* of movies in the dataset that were released 1900-1999, and the *proportion* of movies in the dataset that were released in the year 2000 or later.\n",
        "\n",
        "Assign `proportion_in_20th_century` to the proportion of movies in the dataset that were released 1900-1999, and `proportion_in_21st_century` to the proportion of movies in the dataset that were released in the year 2000 or later.\n",
        "\n",
        "*Hint:* The *proportion* of movies released in the 1900's is the *number* of movies released in the 1900's, divided by the *total number* of movies.\n"
      ]
    },
    {
      "cell_type": "code",
      "execution_count": null,
      "id": "cell-lab02-62",
      "metadata": {
        "deletable": false,
        "id": "cell-lab02-62",
        "tags": []
      },
      "outputs": [],
      "source": [
        "num_movies_in_dataset = ...\n",
        "num_in_20th_century = ...\n",
        "num_in_21st_century = ...\n",
        "proportion_in_20th_century = ...\n",
        "proportion_in_21st_century = ...\n",
        "print(\"Proportion in 20th century:\", proportion_in_20th_century)\n",
        "print(\"Proportion in 21st century:\", proportion_in_21st_century)"
      ]
    },
    {
      "cell_type": "code",
      "execution_count": null,
      "id": "cell-lab02-63",
      "metadata": {
        "deletable": false,
        "editable": false,
        "id": "cell-lab02-63"
      },
      "outputs": [],
      "source": [
        "grader.check(\"q42\")"
      ]
    },
    {
      "cell_type": "markdown",
      "id": "cell-lab02-64",
      "metadata": {
        "id": "cell-lab02-64"
      },
      "source": [
        "## 5. Summary\n",
        "\n",
        "For your reference, here's a table of all the functions and methods we saw in this lab. We'll learn more methods to add to this table in the coming week!\n",
        "\n",
        "|Name|Example|Purpose|\n",
        "|-|-|-|\n",
        "|`sort`|`tbl.sort(\"N\")`|Create a copy of a table sorted by the values in a column|\n",
        "|`where`|`tbl.where(\"N\", are.above(2))`|Create a copy of a table with only the rows that match some *predicate*|\n",
        "|`num_rows`|`tbl.num_rows`|Compute the number of rows in a table|\n",
        "|`num_columns`|`tbl.num_columns`|Compute the number of columns in a table|\n",
        "|`select`|`tbl.select(\"N\")`|Create a copy of a table with only some of the columns|\n",
        "|`drop`|`tbl.drop(\"N\")`|Create a copy of a table without some of the columns|"
      ]
    },
    {
      "cell_type": "markdown",
      "id": "cell-lab02-65",
      "metadata": {
        "id": "cell-lab02-65"
      },
      "source": [
        "\n",
        "## 6. Submission\n",
        "\n",
        "You're done with Lab 2! To double-check your work, the cell below will rerun all of the autograder tests."
      ]
    },
    {
      "cell_type": "markdown",
      "id": "cell-lab02-66",
      "metadata": {
        "id": "cell-lab02-66"
      },
      "source": [
        "**Important submission steps:**\n",
        "1. Run the tests and verify that they all pass.\n",
        "2. Choose **Save Notebook** from the **File** menu, then **run the final cell**.\n",
        "3. If you are using Google Colab, download your submission file.\n",
        "4. If you are using Jupyter save your submmission file.\n",
        "5. Then submit the file to the corresponding assignment according to your instructor's directions.\n",
        "\n",
        "**It is your responsibility to make sure your work is saved before running the last cell.**"
      ]
    },
    {
      "cell_type": "markdown",
      "id": "cell-lab02-67",
      "metadata": {
        "deletable": false,
        "editable": false,
        "id": "cell-lab02-67"
      },
      "source": [
        "## Submission\n",
        "\n",
        "Make sure you have run all cells in your notebook in order before running the cell below, so that all images/graphs appear in the output. **Please save before submitting your notebook!**"
      ]
    },
    {
      "cell_type": "markdown",
      "id": "cell-lab02-69",
      "metadata": {
        "id": "cell-lab02-69"
      },
      "source": []
    }
  ],
  "metadata": {
    "colab": {
      "provenance": [],
      "include_colab_link": true
    },
    "kernelspec": {
      "display_name": "Python 3",
      "language": "python",
      "name": "python3"
    },
    "language_info": {
      "codemirror_mode": {
        "name": "ipython",
        "version": 3
      },
      "file_extension": ".py",
      "mimetype": "text/x-python",
      "name": "python",
      "nbconvert_exporter": "python",
      "pygments_lexer": "ipython3",
      "version": "3.12.4"
    }
  },
  "nbformat": 4,
  "nbformat_minor": 5
}